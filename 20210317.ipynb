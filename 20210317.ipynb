{
  "nbformat": 4,
  "nbformat_minor": 0,
  "metadata": {
    "colab": {
      "name": "20210317",
      "provenance": [],
      "authorship_tag": "ABX9TyMutC/AaUSAAOZm0fHOAz8J",
      "include_colab_link": true
    },
    "kernelspec": {
      "name": "python3",
      "display_name": "Python 3"
    }
  },
  "cells": [
    {
      "cell_type": "markdown",
      "metadata": {
        "id": "view-in-github",
        "colab_type": "text"
      },
      "source": [
        "<a href=\"https://colab.research.google.com/github/eunseo-cho/class2021Spring/blob/main/20210317.ipynb\" target=\"_parent\"><img src=\"https://colab.research.google.com/assets/colab-badge.svg\" alt=\"Open In Colab\"/></a>"
      ]
    },
    {
      "cell_type": "markdown",
      "metadata": {
        "id": "aYB9OnL7ue-7"
      },
      "source": [
        "실습"
      ]
    },
    {
      "cell_type": "code",
      "metadata": {
        "colab": {
          "base_uri": "https://localhost:8080/"
        },
        "id": "WcSfoEYrubPy",
        "outputId": "1e5252bb-b721-4c56-cabf-5c219476996a"
      },
      "source": [
        "a=['english','math','science','computer']\r\n",
        "for i in a : \r\n",
        "  for k in range(4):\r\n",
        "    if len(i)>=5:\r\n",
        "      print(len(i)+k)"
      ],
      "execution_count": 1,
      "outputs": [
        {
          "output_type": "stream",
          "text": [
            "7\n",
            "8\n",
            "9\n",
            "10\n",
            "7\n",
            "8\n",
            "9\n",
            "10\n",
            "8\n",
            "9\n",
            "10\n",
            "11\n"
          ],
          "name": "stdout"
        }
      ]
    },
    {
      "cell_type": "code",
      "metadata": {
        "colab": {
          "base_uri": "https://localhost:8080/"
        },
        "id": "2itB92lAvGav",
        "outputId": "b6123501-a686-4484-83f6-84ae718c4cca"
      },
      "source": [
        "a=['abc','bcde','cdefg','dedfdf']\r\n",
        "b=[i for i in a if len(i)>4]\r\n",
        "b"
      ],
      "execution_count": 3,
      "outputs": [
        {
          "output_type": "execute_result",
          "data": {
            "text/plain": [
              "['cdefg', 'dedfdf']"
            ]
          },
          "metadata": {
            "tags": []
          },
          "execution_count": 3
        }
      ]
    },
    {
      "cell_type": "markdown",
      "metadata": {
        "id": "1ix3BWVxudaU"
      },
      "source": [
        ""
      ]
    }
  ]
}