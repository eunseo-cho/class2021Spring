{
  "nbformat": 4,
  "nbformat_minor": 0,
  "metadata": {
    "colab": {
      "name": "20210322.ipynb",
      "provenance": [],
      "authorship_tag": "ABX9TyN2Pc5Dmqg3U7mGlJ9sbE4r",
      "include_colab_link": true
    },
    "kernelspec": {
      "name": "python3",
      "display_name": "Python 3"
    },
    "language_info": {
      "name": "python"
    }
  },
  "cells": [
    {
      "cell_type": "markdown",
      "metadata": {
        "id": "view-in-github",
        "colab_type": "text"
      },
      "source": [
        "<a href=\"https://colab.research.google.com/github/eunseo-cho/class2021Spring/blob/main/20210322.ipynb\" target=\"_parent\"><img src=\"https://colab.research.google.com/assets/colab-badge.svg\" alt=\"Open In Colab\"/></a>"
      ]
    },
    {
      "cell_type": "code",
      "metadata": {
        "colab": {
          "base_uri": "https://localhost:8080/"
        },
        "id": "7cc65sNfUaHd",
        "outputId": "1b6a28a8-ccd7-40f7-8e9b-03030dcf2d94"
      },
      "source": [
        "def add(a,b):\n",
        "  return a+b\n",
        "\n",
        "\n",
        "def subtract(a,b):\n",
        "  return a-b\n",
        "\n",
        "\n",
        "#함수는 input과 output으로 이뤄져 있음. \n",
        "\n",
        "def func1(x,a,b):\n",
        "  y=a*x+b\n",
        "  return y\n",
        "\n",
        "func1(3,1,2)"
      ],
      "execution_count": 6,
      "outputs": [
        {
          "output_type": "execute_result",
          "data": {
            "text/plain": [
              "5"
            ]
          },
          "metadata": {
            "tags": []
          },
          "execution_count": 6
        }
      ]
    },
    {
      "cell_type": "code",
      "metadata": {
        "id": "cInFrw1ZW019"
      },
      "source": [
        "def devide(a,b):\n",
        "  return a/b"
      ],
      "execution_count": null,
      "outputs": []
    },
    {
      "cell_type": "code",
      "metadata": {
        "colab": {
          "base_uri": "https://localhost:8080/"
        },
        "id": "Edfn8ZptWKGf",
        "outputId": "4b36ef1a-89af-4c1a-a400-6c4f948a62fc"
      },
      "source": [
        "#함수에 출력이 없어도 가능하다. \n",
        "def multiply(a,b):\n",
        "  return \n",
        "\n",
        "#함수에 입력이 없어도 가능하다. \n",
        "def add():\n",
        "  a=1\n",
        "\n",
        "\n",
        "#입력도, 출력도 두개가 가능하다. \n",
        "def add(a,b):\n",
        "  return a, b\n",
        "\n",
        "result=add(1,2); print(result)\n",
        "type(result)\n",
        "\n",
        "#즉, 입력 출력 모두 0개 이상\n",
        "\n",
        "\n"
      ],
      "execution_count": 10,
      "outputs": [
        {
          "output_type": "stream",
          "text": [
            "(1, 2)\n"
          ],
          "name": "stdout"
        },
        {
          "output_type": "execute_result",
          "data": {
            "text/plain": [
              "tuple"
            ]
          },
          "metadata": {
            "tags": []
          },
          "execution_count": 10
        }
      ]
    },
    {
      "cell_type": "markdown",
      "metadata": {
        "id": "X2zUiAOOXDYg"
      },
      "source": [
        "#실습"
      ]
    },
    {
      "cell_type": "code",
      "metadata": {
        "id": "GABH6MN2XARS"
      },
      "source": [
        "def func1(x,a,b):\n",
        "  y=a*x+bi\n",
        "  return y\n",
        "\n",
        "\n",
        "def func2(x,a,b,c):\n",
        "  y=a*x**2+b*x+c\n",
        "  return y\n",
        "\n"
      ],
      "execution_count": 12,
      "outputs": []
    },
    {
      "cell_type": "code",
      "metadata": {
        "colab": {
          "base_uri": "https://localhost:8080/"
        },
        "id": "C7qX5wghXqSq",
        "outputId": "f86f1837-4e6c-4f04-a617-ebc39e87bbe0"
      },
      "source": [
        "func2(1,2,3,4)"
      ],
      "execution_count": 13,
      "outputs": [
        {
          "output_type": "execute_result",
          "data": {
            "text/plain": [
              "9"
            ]
          },
          "metadata": {
            "tags": []
          },
          "execution_count": 13
        }
      ]
    }
  ]
}