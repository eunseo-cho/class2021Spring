{
  "nbformat": 4,
  "nbformat_minor": 0,
  "metadata": {
    "colab": {
      "name": "20210331.ipynb",
      "provenance": [],
      "authorship_tag": "ABX9TyPrNadakH0ONNWAM1z2H9a4",
      "include_colab_link": true
    },
    "kernelspec": {
      "name": "python3",
      "display_name": "Python 3"
    },
    "language_info": {
      "name": "python"
    }
  },
  "cells": [
    {
      "cell_type": "markdown",
      "metadata": {
        "id": "view-in-github",
        "colab_type": "text"
      },
      "source": [
        "<a href=\"https://colab.research.google.com/github/eunseo-cho/class2021Spring/blob/main/20210331.ipynb\" target=\"_parent\"><img src=\"https://colab.research.google.com/assets/colab-badge.svg\" alt=\"Open In Colab\"/></a>"
      ]
    },
    {
      "cell_type": "markdown",
      "metadata": {
        "id": "mg58rpwl5C7T"
      },
      "source": [
        "\n",
        "               아        애\n",
        "\n",
        "duration     :   0.4230 sec           ////         0.5122 sec\n",
        "\n",
        "\n",
        "pitch        :  207.8 hz //// 203.8 hz\n",
        "\n",
        "\n",
        "\n",
        "intensity     : 58.18 dB ///// 53.72 dB\n",
        "\n",
        "\n",
        "\n",
        "formant : 1529 hz (last) 1105 hz //// 662 hz(last) 2269hz"
      ]
    },
    {
      "cell_type": "code",
      "metadata": {
        "id": "tq-rZmOS5BnB"
      },
      "source": [
        ""
      ],
      "execution_count": null,
      "outputs": []
    },
    {
      "cell_type": "code",
      "metadata": {
        "id": "u6bEDveO5CXX"
      },
      "source": [
        ""
      ],
      "execution_count": null,
      "outputs": []
    }
  ]
}