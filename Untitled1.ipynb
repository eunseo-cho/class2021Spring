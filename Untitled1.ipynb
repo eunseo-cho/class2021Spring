{
  "nbformat": 4,
  "nbformat_minor": 0,
  "metadata": {
    "colab": {
      "name": "Untitled1.ipynb",
      "provenance": [],
      "authorship_tag": "ABX9TyP80cml5jIBkINsWC0bEJrM",
      "include_colab_link": true
    },
    "kernelspec": {
      "name": "python3",
      "display_name": "Python 3"
    }
  },
  "cells": [
    {
      "cell_type": "markdown",
      "metadata": {
        "id": "view-in-github",
        "colab_type": "text"
      },
      "source": [
        "<a href=\"https://colab.research.google.com/github/eunseo-cho/class2021Spring/blob/main/Untitled1.ipynb\" target=\"_parent\"><img src=\"https://colab.research.google.com/assets/colab-badge.svg\" alt=\"Open In Colab\"/></a>"
      ]
    },
    {
      "cell_type": "markdown",
      "metadata": {
        "id": "Yuvib0CvV358"
      },
      "source": [
        "튜플은 변경이 불가능하다. \r\n",
        "\r\n",
        "\r\n",
        "a = [ 1, 2, 3]\r\n",
        "\r\n",
        "a[0] = -1\r\n",
        "\r\n",
        ">> a = [ -1, 2, 3]\r\n",
        "\r\n",
        "\r\n",
        "\r\n",
        "\r\n",
        "\r\n",
        "a = ( 1, 2, 3)\r\n",
        "a[0] = -1\r\n",
        ">> 오류\r\n"
      ]
    },
    {
      "cell_type": "code",
      "metadata": {
        "colab": {
          "base_uri": "https://localhost:8080/",
          "height": 213
        },
        "id": "6SciMKxFWORZ",
        "outputId": "cbf16602-9b76-4e58-d571-ba2f5609e0c7"
      },
      "source": [
        "a = { \"a\" : 'apple', \"b\" : \"orange\", \"c\" : 2014} #dictionary\r\n",
        "\r\n",
        "#세부적 access는 list 처럼 대괄호는 사용하지만, 표제어 사용\r\n",
        "\r\n",
        "a [\"b\"] = \"123\" # index는 변화없음. 내용은 바뀜. \r\n",
        "\r\n",
        "a[0] #오류가 남"
      ],
      "execution_count": 17,
      "outputs": [
        {
          "output_type": "error",
          "ename": "KeyError",
          "evalue": "ignored",
          "traceback": [
            "\u001b[0;31m---------------------------------------------------------------------------\u001b[0m",
            "\u001b[0;31mKeyError\u001b[0m                                  Traceback (most recent call last)",
            "\u001b[0;32m<ipython-input-17-bf8d4cea261d>\u001b[0m in \u001b[0;36m<module>\u001b[0;34m()\u001b[0m\n\u001b[1;32m      5\u001b[0m \u001b[0ma\u001b[0m \u001b[0;34m[\u001b[0m\u001b[0;34m\"b\"\u001b[0m\u001b[0;34m]\u001b[0m \u001b[0;34m=\u001b[0m \u001b[0;34m\"123\"\u001b[0m \u001b[0;31m# index는 변화없음. 내용은 바뀜.\u001b[0m\u001b[0;34m\u001b[0m\u001b[0;34m\u001b[0m\u001b[0m\n\u001b[1;32m      6\u001b[0m \u001b[0;34m\u001b[0m\u001b[0m\n\u001b[0;32m----> 7\u001b[0;31m \u001b[0ma\u001b[0m\u001b[0;34m[\u001b[0m\u001b[0;36m0\u001b[0m\u001b[0;34m]\u001b[0m\u001b[0;34m\u001b[0m\u001b[0;34m\u001b[0m\u001b[0m\n\u001b[0m",
            "\u001b[0;31mKeyError\u001b[0m: 0"
          ]
        }
      ]
    },
    {
      "cell_type": "code",
      "metadata": {
        "colab": {
          "base_uri": "https://localhost:8080/",
          "height": 36
        },
        "id": "ZT1WzV35XaRf",
        "outputId": "05c8c874-f0e2-4a29-893a-876a686a98cf"
      },
      "source": [
        "s = 'abcdef' # list와 비슷한 성격을 가졌다 .\r\n",
        "\r\n",
        "#개별 캐릭터에 access하는 방식 = list에서의 방식\r\n",
        "\r\n",
        "s[-1]\r\n",
        "s[0]\r\n",
        "\r\n",
        "#reference point에 접근할 수 있는 것.\r\n",
        "\r\n",
        "#slicing index \r\n",
        "s[1:3] # index1에서 3이전까지.\r\n",
        "s[1:] # 1번째에서 끝까지\r\n",
        "s[1:-1] #1번째에서 끝 바로 이전까지 \r\n",
        "s[:3] #1번째부터 2까지 \r\n",
        "s[:]\r\n",
        "\r\n"
      ],
      "execution_count": 21,
      "outputs": [
        {
          "output_type": "execute_result",
          "data": {
            "application/vnd.google.colaboratory.intrinsic+json": {
              "type": "string"
            },
            "text/plain": [
              "'abcdef'"
            ]
          },
          "metadata": {
            "tags": []
          },
          "execution_count": 21
        }
      ]
    },
    {
      "cell_type": "code",
      "metadata": {
        "colab": {
          "base_uri": "https://localhost:8080/",
          "height": 36
        },
        "id": "L9n5ATVgaJsB",
        "outputId": "00797b33-dce7-4fcd-9203-73a9b68d40d1"
      },
      "source": [
        "len(s) # 길이 \r\n",
        "\r\n",
        "n = [1,2,3]\r\n",
        "len(n) #list의 길이 \r\n",
        "\r\n",
        "\r\n",
        "s[1]+s[3] +s[4:]*10  #문자 더하기\r\n",
        "\r\n",
        "s.upper()\r\n",
        "\r\n",
        "\\n\r\n",
        "\r\n",
        "s.find('that')\r\n",
        "# 나오지 않으면 -1 값을 출력한다. \r\n",
        "\r\n",
        "\r\n",
        "s.strip()"
      ],
      "execution_count": 25,
      "outputs": [
        {
          "output_type": "execute_result",
          "data": {
            "application/vnd.google.colaboratory.intrinsic+json": {
              "type": "string"
            },
            "text/plain": [
              "'bdefefefefefefefefefef'"
            ]
          },
          "metadata": {
            "tags": []
          },
          "execution_count": 25
        }
      ]
    },
    {
      "cell_type": "code",
      "metadata": {
        "colab": {
          "base_uri": "https://localhost:8080/"
        },
        "id": "tNbuCcSwfkPp",
        "outputId": "3e64e363-f75f-49a7-9411-36489968c577"
      },
      "source": [
        "range(4)"
      ],
      "execution_count": 26,
      "outputs": [
        {
          "output_type": "execute_result",
          "data": {
            "text/plain": [
              "range(0, 4)"
            ]
          },
          "metadata": {
            "tags": []
          },
          "execution_count": 26
        }
      ]
    },
    {
      "cell_type": "code",
      "metadata": {
        "id": "KmYGLWKufkJx"
      },
      "source": [
        ""
      ],
      "execution_count": null,
      "outputs": []
    }
  ]
}