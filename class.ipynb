{
  "nbformat": 4,
  "nbformat_minor": 0,
  "metadata": {
    "colab": {
      "name": "class.ipynb",
      "provenance": [],
      "authorship_tag": "ABX9TyP/JxmXXsTXlPTKejMtCMo3",
      "include_colab_link": true
    },
    "kernelspec": {
      "name": "python3",
      "display_name": "Python 3"
    },
    "language_info": {
      "name": "python"
    }
  },
  "cells": [
    {
      "cell_type": "markdown",
      "metadata": {
        "id": "view-in-github",
        "colab_type": "text"
      },
      "source": [
        "<a href=\"https://colab.research.google.com/github/eunseo-cho/class2021Spring/blob/main/class.ipynb\" target=\"_parent\"><img src=\"https://colab.research.google.com/assets/colab-badge.svg\" alt=\"Open In Colab\"/></a>"
      ]
    },
    {
      "cell_type": "markdown",
      "metadata": {
        "id": "MTNj-7rkawv2"
      },
      "source": [
        "#클래스\n",
        "\n",
        "함수 & 변수 ==> module\n",
        "class ; oop (object oriented programming)"
      ]
    },
    {
      "cell_type": "markdown",
      "metadata": {
        "id": "XIeb0Fvvbc6i"
      },
      "source": [
        "class는 함수와 변수가 동시에 적용되는 형태\n",
        "######잘 읽어서 숙지하기를"
      ]
    },
    {
      "cell_type": "code",
      "metadata": {
        "id": "VJIlHi2AavJp"
      },
      "source": [
        "class cal:\n",
        "  def __init__(self): #제일 처음 이 객체를 쓸 때, 밑에 문장이 실행된다. 객체를 처음 생성할 때, 저절로 자동으로 실행. 암기 하세요. \n",
        "    self.result=0 #self.result가 변수이다. \n",
        "  def add(self,n):\n",
        "    self.result +=n #자기 자신에게 n만큼 더 더해준다.\n",
        "    return self.result"
      ],
      "execution_count": null,
      "outputs": []
    },
    {
      "cell_type": "code",
      "metadata": {
        "colab": {
          "base_uri": "https://localhost:8080/"
        },
        "id": "GDscxwJlcR54",
        "outputId": "1bacda6e-f764-459f-a99b-f660e2ccbd02"
      },
      "source": [
        "A=cal() # class로 A를 찍어낸다. 이때, A를 객체라고 한ㄷ. \n",
        "#실행하면 맨처음 def__init__(self) 부분이 실행된다. \n",
        "\n",
        "A.result"
      ],
      "execution_count": null,
      "outputs": [
        {
          "output_type": "execute_result",
          "data": {
            "text/plain": [
              "0"
            ]
          },
          "metadata": {
            "tags": []
          },
          "execution_count": 4
        }
      ]
    },
    {
      "cell_type": "code",
      "metadata": {
        "colab": {
          "base_uri": "https://localhost:8080/"
        },
        "id": "2XuSiGYVcn1l",
        "outputId": "b5d09452-ed8d-41fa-b778-c4065171b209"
      },
      "source": [
        "A.add(4) # class를 쓸 때, add라는 것을 실행할 때, A.add를 하면 실행된다. 이 함수에 들어가는 것이 self, n  self는 A를 지칭, n이 실제 값.\n"
      ],
      "execution_count": null,
      "outputs": [
        {
          "output_type": "execute_result",
          "data": {
            "text/plain": [
              "4"
            ]
          },
          "metadata": {
            "tags": []
          },
          "execution_count": 5
        }
      ]
    },
    {
      "cell_type": "code",
      "metadata": {
        "colab": {
          "base_uri": "https://localhost:8080/"
        },
        "id": "a6coW6kkdJaB",
        "outputId": "9dad5bc9-f661-43e8-d30e-a41be5f7a10e"
      },
      "source": [
        "A.add(6)\n"
      ],
      "execution_count": null,
      "outputs": [
        {
          "output_type": "execute_result",
          "data": {
            "text/plain": [
              "10"
            ]
          },
          "metadata": {
            "tags": []
          },
          "execution_count": 6
        }
      ]
    },
    {
      "cell_type": "code",
      "metadata": {
        "id": "146eC6uydbhX"
      },
      "source": [
        "B=cal()"
      ],
      "execution_count": null,
      "outputs": []
    },
    {
      "cell_type": "code",
      "metadata": {
        "colab": {
          "base_uri": "https://localhost:8080/"
        },
        "id": "ltqjj5bodenC",
        "outputId": "f2b04fd3-d679-4538-f55e-acc0ccbdbcaa"
      },
      "source": [
        "B.result"
      ],
      "execution_count": null,
      "outputs": [
        {
          "output_type": "execute_result",
          "data": {
            "text/plain": [
              "0"
            ]
          },
          "metadata": {
            "tags": []
          },
          "execution_count": 8
        }
      ]
    },
    {
      "cell_type": "code",
      "metadata": {
        "colab": {
          "base_uri": "https://localhost:8080/"
        },
        "id": "DGN4DCHldjo5",
        "outputId": "ae9e587f-be59-489b-ae97-4be0f87dc6a1"
      },
      "source": [
        "B.add(5)"
      ],
      "execution_count": null,
      "outputs": [
        {
          "output_type": "execute_result",
          "data": {
            "text/plain": [
              "5"
            ]
          },
          "metadata": {
            "tags": []
          },
          "execution_count": 9
        }
      ]
    },
    {
      "cell_type": "markdown",
      "metadata": {
        "id": "r9sIrQB1d24m"
      },
      "source": [
        "#module\n",
        "함수나 변수 또는 클래스를 모아 놓은 파일이다. \n",
        "모듈 여러개 : 패키지\n"
      ]
    }
  ]
}