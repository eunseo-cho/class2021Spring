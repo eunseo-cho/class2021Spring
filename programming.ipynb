{
  "nbformat": 4,
  "nbformat_minor": 0,
  "metadata": {
    "colab": {
      "name": "programming.ipynb",
      "provenance": [],
      "authorship_tag": "ABX9TyMgw2iSIbrJP4kyPVna8hVz",
      "include_colab_link": true
    },
    "kernelspec": {
      "name": "python3",
      "display_name": "Python 3"
    }
  },
  "cells": [
    {
      "cell_type": "markdown",
      "metadata": {
        "id": "view-in-github",
        "colab_type": "text"
      },
      "source": [
        "<a href=\"https://colab.research.google.com/github/eunseo-cho/class2021Spring/blob/main/programming.ipynb\" target=\"_parent\"><img src=\"https://colab.research.google.com/assets/colab-badge.svg\" alt=\"Open In Colab\"/></a>"
      ]
    },
    {
      "cell_type": "markdown",
      "metadata": {
        "id": "_8YFbCnooxo3"
      },
      "source": [
        "#컴퓨터 언어\r\n",
        "\r\n",
        "  ## 변수\r\n",
        "\r\n",
        "      인간 언어의 단어와 비슷.\r\n",
        "      사과 = (사과라는 정보)  :  오른쪽에 있는 것을 왼쪽에 할당\r\n",
        "\r\n",
        "      마찬가지로,\r\n",
        "\r\n",
        "      a = 1 : a라는 변수에 1이라는 정보를 할당 (assign)\r\n",
        "\r\n",
        "      즉, 변수는 정보를 할당받는 '단어'라고 할 수 있음. \r\n",
        "\r\n",
        "    \r\n",
        "  ## 제어문\r\n",
        "\r\n",
        "      인간 언어의 문법에 해당.\r\n",
        "\r\n",
        "      두 종류\r\n",
        "\r\n",
        "      1) 반복 : for 사용\r\n",
        "\r\n",
        "      2) 조건 : if 사용\r\n",
        "\r\n",
        "  \r\n",
        "\r\n",
        "  ## 함수\r\n",
        "\r\n",
        "      입출력 관계를 나타냄\r\n",
        "\r\n",
        "      입력 --(변화)--> 출력 \r\n",
        "\r\n",
        "      ex) 인간의 몸 : 음식물 --(내부 변화)--> 배출\r\n",
        "\r\n",
        "      \r\n",
        "      또한, 반복해서 쓰이는 공식을 하나의 모듈로 만들어내는 것. "
      ]
    }
  ]
}