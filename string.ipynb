{
  "nbformat": 4,
  "nbformat_minor": 0,
  "metadata": {
    "colab": {
      "name": "string.ipynb",
      "provenance": [],
      "authorship_tag": "ABX9TyNkhWptcT5T4it2x0TJYGPy",
      "include_colab_link": true
    },
    "kernelspec": {
      "name": "python3",
      "display_name": "Python 3"
    }
  },
  "cells": [
    {
      "cell_type": "markdown",
      "metadata": {
        "id": "view-in-github",
        "colab_type": "text"
      },
      "source": [
        "<a href=\"https://colab.research.google.com/github/eunseo-cho/class2021Spring/blob/main/string.ipynb\" target=\"_parent\"><img src=\"https://colab.research.google.com/assets/colab-badge.svg\" alt=\"Open In Colab\"/></a>"
      ]
    },
    {
      "cell_type": "markdown",
      "metadata": {
        "id": "OuQ2tI_odvyG"
      },
      "source": [
        "#수업자료"
      ]
    },
    {
      "cell_type": "code",
      "metadata": {
        "colab": {
          "base_uri": "https://localhost:8080/"
        },
        "id": "id-LIpO9f9Yw",
        "outputId": "5968122d-97fc-46a2-9eb7-2dbc54c74be9"
      },
      "source": [
        "s= 'abcdef'\r\n",
        "print(s[0], s[5], s[-1], s[-6])\r\n",
        "print(s[1:3], s[1:], s[:3], s[:])"
      ],
      "execution_count": null,
      "outputs": [
        {
          "output_type": "stream",
          "text": [
            "a f f a\n",
            "bc bcdef abc abcdef\n"
          ],
          "name": "stdout"
        }
      ]
    },
    {
      "cell_type": "markdown",
      "metadata": {
        "id": "s6WkB92DdpQV"
      },
      "source": [
        "#필기+여러가지 시도"
      ]
    },
    {
      "cell_type": "code",
      "metadata": {
        "colab": {
          "base_uri": "https://localhost:8080/"
        },
        "id": "QTfVyL9-aQ45",
        "outputId": "9e4c2b62-a51d-43ad-c9d2-987681a0e6ea"
      },
      "source": [
        "s='12345'\r\n",
        "print(s[0],s[-2],s[1]+s[3])\r\n",
        "print(s[:],s[:-1],s[1:]) \r\n",
        "print(s[:-7])\r\n",
        "\r\n",
        "print(type(s[:-7]))\r\n",
        "\r\n",
        "type(s[1]+s[3])\r\n",
        "\r\n",
        "\r\n",
        "#s[:] 처음부터 끝까지 ; s[:-1] 처음부터 마지막에서 두번째까지 ; s[1:] 두번째부터 마지막까지 \r\n",
        "#s[a:b] a부터 b-1번째까지 \r\n",
        "#s는 string, 결과도 string\r\n",
        "#string에서, 숫자 지정할 시, index range를 벗어나면 오류 // 대신 s[:-7] 처럼 범위는 range를 벗어나도 가능 (빈 string)\r\n",
        "#서로 합쳐도 결과는 string"
      ],
      "execution_count": 19,
      "outputs": [
        {
          "output_type": "stream",
          "text": [
            "1 4 24\n",
            "12345 1234 2345\n",
            "\n",
            "<class 'str'>\n"
          ],
          "name": "stdout"
        },
        {
          "output_type": "execute_result",
          "data": {
            "text/plain": [
              "str"
            ]
          },
          "metadata": {
            "tags": []
          },
          "execution_count": 19
        }
      ]
    },
    {
      "cell_type": "markdown",
      "metadata": {
        "id": "DCOV0CXVdzC0"
      },
      "source": [
        "#수업자료"
      ]
    },
    {
      "cell_type": "code",
      "metadata": {
        "colab": {
          "base_uri": "https://localhost:8080/"
        },
        "id": "p3uVZhT4hq-y",
        "outputId": "a89cabce-db1f-411c-e880-94cafafae8f8"
      },
      "source": [
        "n = [100, 200, 300]\r\n",
        "print(n[0], n[2], n[-1], n[-3])\r\n",
        "print(n[1:2], n[1:], n[:2], n[:])"
      ],
      "execution_count": null,
      "outputs": [
        {
          "output_type": "stream",
          "text": [
            "100 300 300 100\n",
            "[200] [200, 300] [100, 200] [100, 200, 300]\n"
          ],
          "name": "stdout"
        }
      ]
    },
    {
      "cell_type": "markdown",
      "metadata": {
        "id": "VvCFKBTLd0po"
      },
      "source": [
        "#필기+여러가지 시도"
      ]
    },
    {
      "cell_type": "code",
      "metadata": {
        "colab": {
          "base_uri": "https://localhost:8080/"
        },
        "id": "WqQYIb9XbJd-",
        "outputId": "3abb4e87-818d-4daa-db1b-2eb1b4e34524"
      },
      "source": [
        "n=['1',2,3]\r\n",
        "print(n[0], n[2]) \r\n",
        "print(n[:],n[-1:-4],n[1:9]+n[:]) \r\n",
        "\r\n",
        "\r\n",
        "# list에서, index range를 벗어나면 오류\r\n",
        "# list 서로 합치면 순서 변함없이 그대로 들어감, 똑같은 것도 그대로\r\n",
        "# n[-1:-4] ; 마지막부터 첫번째까지인 것 같은데, 결과는 [] 빈 list. \r\n",
        "# list에서 인덱스로 프린트를 하면, str은 ''없이 출력"
      ],
      "execution_count": 10,
      "outputs": [
        {
          "output_type": "stream",
          "text": [
            "1 3\n",
            "['1', 2, 3] [] [2, 3, '1', 2, 3]\n"
          ],
          "name": "stdout"
        }
      ]
    },
    {
      "cell_type": "markdown",
      "metadata": {
        "id": "g6zPIvdFd29o"
      },
      "source": [
        "#수업자료"
      ]
    },
    {
      "cell_type": "code",
      "metadata": {
        "colab": {
          "base_uri": "https://localhost:8080/"
        },
        "id": "MxjmjH3UhsHh",
        "outputId": "54d71d2d-8ba1-4531-d77c-980a8e30a0c3"
      },
      "source": [
        "len(s)\r\n"
      ],
      "execution_count": 20,
      "outputs": [
        {
          "output_type": "execute_result",
          "data": {
            "text/plain": [
              "5"
            ]
          },
          "metadata": {
            "tags": []
          },
          "execution_count": 20
        }
      ]
    },
    {
      "cell_type": "markdown",
      "metadata": {
        "id": "x7Vn-jqHd579"
      },
      "source": [
        "length를 가리킴 = 길이"
      ]
    },
    {
      "cell_type": "code",
      "metadata": {
        "colab": {
          "base_uri": "https://localhost:8080/",
          "height": 213
        },
        "id": "Fp-5lGP9eGC7",
        "outputId": "555338ce-993e-48d6-c5d6-6f009b314a7b"
      },
      "source": [
        "len(n) #len(list/str/tuple)\r\n",
        "k=(1,2,3)\r\n",
        "len(k)\r\n",
        "m=123\r\n",
        "len(m) #int/float은 len의 함수에 들어갈 수 없음"
      ],
      "execution_count": 24,
      "outputs": [
        {
          "output_type": "error",
          "ename": "TypeError",
          "evalue": "ignored",
          "traceback": [
            "\u001b[0;31m---------------------------------------------------------------------------\u001b[0m",
            "\u001b[0;31mTypeError\u001b[0m                                 Traceback (most recent call last)",
            "\u001b[0;32m<ipython-input-24-1c8309fca7fd>\u001b[0m in \u001b[0;36m<module>\u001b[0;34m()\u001b[0m\n\u001b[1;32m      3\u001b[0m \u001b[0mlen\u001b[0m\u001b[0;34m(\u001b[0m\u001b[0mk\u001b[0m\u001b[0;34m)\u001b[0m\u001b[0;34m\u001b[0m\u001b[0;34m\u001b[0m\u001b[0m\n\u001b[1;32m      4\u001b[0m \u001b[0mm\u001b[0m\u001b[0;34m=\u001b[0m\u001b[0;36m1.23\u001b[0m\u001b[0;34m\u001b[0m\u001b[0;34m\u001b[0m\u001b[0m\n\u001b[0;32m----> 5\u001b[0;31m \u001b[0mlen\u001b[0m\u001b[0;34m(\u001b[0m\u001b[0mm\u001b[0m\u001b[0;34m)\u001b[0m \u001b[0;31m#int은 len의 함수에 들어갈 수 없음\u001b[0m\u001b[0;34m\u001b[0m\u001b[0;34m\u001b[0m\u001b[0m\n\u001b[0m",
            "\u001b[0;31mTypeError\u001b[0m: object of type 'float' has no len()"
          ]
        }
      ]
    },
    {
      "cell_type": "code",
      "metadata": {
        "colab": {
          "base_uri": "https://localhost:8080/",
          "height": 36
        },
        "id": "a0OQbpRXhwQC",
        "outputId": "31563508-16e5-461d-a47d-ca5bc74b8448"
      },
      "source": [
        "s[1]+s[3]+s[4:]*10\r\n"
      ],
      "execution_count": null,
      "outputs": [
        {
          "output_type": "execute_result",
          "data": {
            "application/vnd.google.colaboratory.intrinsic+json": {
              "type": "string"
            },
            "text/plain": [
              "'bdefefefefefefefefefef'"
            ]
          },
          "metadata": {
            "tags": []
          },
          "execution_count": 4
        }
      ]
    },
    {
      "cell_type": "code",
      "metadata": {
        "colab": {
          "base_uri": "https://localhost:8080/",
          "height": 232
        },
        "id": "r9Hv-eP2efvt",
        "outputId": "8cf991f3-501d-48a7-fd6e-743882e5fad7"
      },
      "source": [
        "#print를 누르지 않고 그대로 출력 : str\r\n",
        "#s[4:]*10 = str을 10번 반복\r\n",
        "\r\n",
        "n[0]+n[-1]*10\r\n",
        "#연산할 시, int인 경우는 사칙연산 그냥 하면 됨\r\n",
        "#str+str / int+int 만 가능"
      ],
      "execution_count": 27,
      "outputs": [
        {
          "output_type": "error",
          "ename": "TypeError",
          "evalue": "ignored",
          "traceback": [
            "\u001b[0;31m---------------------------------------------------------------------------\u001b[0m",
            "\u001b[0;31mTypeError\u001b[0m                                 Traceback (most recent call last)",
            "\u001b[0;32m<ipython-input-27-5b99e10a954d>\u001b[0m in \u001b[0;36m<module>\u001b[0;34m()\u001b[0m\n\u001b[1;32m      2\u001b[0m \u001b[0;31m#s[4:]*10 = str을 10번 반복\u001b[0m\u001b[0;34m\u001b[0m\u001b[0;34m\u001b[0m\u001b[0;34m\u001b[0m\u001b[0m\n\u001b[1;32m      3\u001b[0m \u001b[0;34m\u001b[0m\u001b[0m\n\u001b[0;32m----> 4\u001b[0;31m \u001b[0mn\u001b[0m\u001b[0;34m[\u001b[0m\u001b[0;36m0\u001b[0m\u001b[0;34m]\u001b[0m\u001b[0;34m+\u001b[0m\u001b[0mn\u001b[0m\u001b[0;34m[\u001b[0m\u001b[0;34m-\u001b[0m\u001b[0;36m1\u001b[0m\u001b[0;34m]\u001b[0m\u001b[0;34m*\u001b[0m\u001b[0;36m10\u001b[0m\u001b[0;34m\u001b[0m\u001b[0;34m\u001b[0m\u001b[0m\n\u001b[0m\u001b[1;32m      5\u001b[0m \u001b[0;31m#연산할 시, int인 경우는 사칙연산 그냥 하면 됨\u001b[0m\u001b[0;34m\u001b[0m\u001b[0;34m\u001b[0m\u001b[0;34m\u001b[0m\u001b[0m\n",
            "\u001b[0;31mTypeError\u001b[0m: can only concatenate str (not \"int\") to str"
          ]
        }
      ]
    },
    {
      "cell_type": "markdown",
      "metadata": {
        "id": "Kw-gX64zeeFN"
      },
      "source": [
        ""
      ]
    },
    {
      "cell_type": "code",
      "metadata": {
        "colab": {
          "base_uri": "https://localhost:8080/",
          "height": 36
        },
        "id": "9j6eeGT_hxCF",
        "outputId": "e6cae390-884b-47f0-e150-97bc3aed4be8"
      },
      "source": [
        "s.upper() #upper 함수는 그 자체에 저장되지 않음 "
      ],
      "execution_count": 68,
      "outputs": [
        {
          "output_type": "execute_result",
          "data": {
            "application/vnd.google.colaboratory.intrinsic+json": {
              "type": "string"
            },
            "text/plain": [
              "'abc'"
            ]
          },
          "metadata": {
            "tags": []
          },
          "execution_count": 68
        }
      ]
    },
    {
      "cell_type": "code",
      "metadata": {
        "colab": {
          "base_uri": "https://localhost:8080/",
          "height": 36
        },
        "id": "BxYu9WH-hyom",
        "outputId": "5ab787db-dfa5-4fad-f079-943d84f090a0"
      },
      "source": [
        "s = 'this is a house built  this year.' \t\r\n",
        "s"
      ],
      "execution_count": 61,
      "outputs": [
        {
          "output_type": "execute_result",
          "data": {
            "application/vnd.google.colaboratory.intrinsic+json": {
              "type": "string"
            },
            "text/plain": [
              "'this is a house built  this year.'"
            ]
          },
          "metadata": {
            "tags": []
          },
          "execution_count": 61
        }
      ]
    },
    {
      "cell_type": "code",
      "metadata": {
        "colab": {
          "base_uri": "https://localhost:8080/"
        },
        "id": "cfLp-vZph3WU",
        "outputId": "75fcf477-fc0b-4774-d98a-a3631e11602a"
      },
      "source": [
        "result = s.find('house') \t    # index of first instance of string t inside s (-1 if not found)\r\n",
        "result"
      ],
      "execution_count": null,
      "outputs": [
        {
          "output_type": "execute_result",
          "data": {
            "text/plain": [
              "11"
            ]
          },
          "metadata": {
            "tags": []
          },
          "execution_count": 7
        }
      ]
    },
    {
      "cell_type": "code",
      "metadata": {
        "colab": {
          "base_uri": "https://localhost:8080/"
        },
        "id": "3PiiQK0hgPsF",
        "outputId": "aff67b35-f23c-49c6-f475-216bca05db38"
      },
      "source": [
        "print(s.find(''),s.find(' '),s.find('  ')) \r\n",
        "\r\n",
        "\r\n",
        "#'' 공백없는 따옴표의 인덱스 값은 항상 0, ' ' 한번 띄어쓰기 있는 따옴표의 인덱스 값은 처음 등장하는 띄어쓰기의 인덱스 값\r\n",
        "#'  ' 두번 띄어쓰기 있는 곳 찾기 "
      ],
      "execution_count": 43,
      "outputs": [
        {
          "output_type": "stream",
          "text": [
            "0 4 21\n"
          ],
          "name": "stdout"
        }
      ]
    },
    {
      "cell_type": "markdown",
      "metadata": {
        "id": "RHLSh309gNjw"
      },
      "source": [
        ""
      ]
    },
    {
      "cell_type": "markdown",
      "metadata": {
        "id": "DVZjag3vfqK8"
      },
      "source": [
        "-1이 나오면 없는 것임."
      ]
    },
    {
      "cell_type": "code",
      "metadata": {
        "colab": {
          "base_uri": "https://localhost:8080/"
        },
        "id": "dLauB0z_iG-e",
        "outputId": "113b1779-6e14-43cb-90e4-62d8a0e1057a"
      },
      "source": [
        "result = s.find('this') # index of last instance of string t inside s (-1 if not found)\r\n",
        "result"
      ],
      "execution_count": null,
      "outputs": [
        {
          "output_type": "execute_result",
          "data": {
            "text/plain": [
              "1"
            ]
          },
          "metadata": {
            "tags": []
          },
          "execution_count": 8
        }
      ]
    },
    {
      "cell_type": "code",
      "metadata": {
        "colab": {
          "base_uri": "https://localhost:8080/"
        },
        "id": "XhSk0CJtiNJu",
        "outputId": "975dec9c-475d-4ea8-d440-f7a202083e54"
      },
      "source": [
        "result = s.rindex('this')        # like s.find(t) except it raises ValueError if not found\r\n",
        "result\r\n",
        "\r\n",
        "#this의 시작인 't'의 인덱스값이 나온다. "
      ],
      "execution_count": null,
      "outputs": [
        {
          "output_type": "execute_result",
          "data": {
            "text/plain": [
              "23"
            ]
          },
          "metadata": {
            "tags": []
          },
          "execution_count": 9
        }
      ]
    },
    {
      "cell_type": "code",
      "metadata": {
        "colab": {
          "base_uri": "https://localhost:8080/",
          "height": 36
        },
        "id": "Sbm-1ByhiPKY",
        "outputId": "cdf22bd4-95f5-413b-ed5d-f5220121dc5a"
      },
      "source": [
        "s=' abc   '\r\n",
        "\r\n",
        "s = s.strip()      \t            # a copy of s without leading or trailing whitespace\r\n",
        "s\r\n",
        "\r\n",
        "#앞뒤에 있는 모든 공백을 삭제한다. 결과는 그대로 str\r\n",
        "#strip은 str에게 \r\n",
        "#strip 함수는 그 값에 저장"
      ],
      "execution_count": 66,
      "outputs": [
        {
          "output_type": "execute_result",
          "data": {
            "application/vnd.google.colaboratory.intrinsic+json": {
              "type": "string"
            },
            "text/plain": [
              "'abc'"
            ]
          },
          "metadata": {
            "tags": []
          },
          "execution_count": 66
        }
      ]
    },
    {
      "cell_type": "code",
      "metadata": {
        "colab": {
          "base_uri": "https://localhost:8080/"
        },
        "id": "n99EcM2GiTc6",
        "outputId": "a2866d29-4d76-485f-f8ac-9e43a5143935"
      },
      "source": [
        "s= ' dsdf sfsd'\r\n",
        "tokens = s.split(' ')\t        # split s into a list wherever a t is found (whitespace by default)\r\n",
        "tokens\r\n",
        "\r\n",
        "#결과가 list이다. \r\n",
        "#맨앞 공백이 있다면 ''한번 도출. 중간에 있는 띄어쓰기는 기준으로 작용함. "
      ],
      "execution_count": 55,
      "outputs": [
        {
          "output_type": "execute_result",
          "data": {
            "text/plain": [
              "['', 'dsdf', 'sfsd']"
            ]
          },
          "metadata": {
            "tags": []
          },
          "execution_count": 55
        }
      ]
    },
    {
      "cell_type": "code",
      "metadata": {
        "colab": {
          "base_uri": "https://localhost:8080/",
          "height": 36
        },
        "id": "QGwcmv33h30v",
        "outputId": "8f8e09c9-c379-4801-b74e-c035e8fb85f8"
      },
      "source": [
        "''.join(tokens) #그냥 다 붙여버림"
      ],
      "execution_count": 59,
      "outputs": [
        {
          "output_type": "execute_result",
          "data": {
            "application/vnd.google.colaboratory.intrinsic+json": {
              "type": "string"
            },
            "text/plain": [
              "'dsdfsfsd'"
            ]
          },
          "metadata": {
            "tags": []
          },
          "execution_count": 59
        }
      ]
    },
    {
      "cell_type": "code",
      "metadata": {
        "colab": {
          "base_uri": "https://localhost:8080/",
          "height": 36
        },
        "id": "m_I8WGQ5iDgW",
        "outputId": "ed7f0c7b-7a0e-458e-fedb-29b1c440d1a4"
      },
      "source": [
        "' '.join(tokens) #원상복귀#띄어쓰기 하나차이가 이렇게나 크다니# join 함수를 실행하더라도 변수에 그 값이 저장되지는 않는듯"
      ],
      "execution_count": 60,
      "outputs": [
        {
          "output_type": "execute_result",
          "data": {
            "application/vnd.google.colaboratory.intrinsic+json": {
              "type": "string"
            },
            "text/plain": [
              "' dsdf sfsd'"
            ]
          },
          "metadata": {
            "tags": []
          },
          "execution_count": 60
        }
      ]
    },
    {
      "cell_type": "code",
      "metadata": {
        "colab": {
          "base_uri": "https://localhost:8080/",
          "height": 36
        },
        "id": "O2_38ZXtiU_m",
        "outputId": "cc8fdc81-37bc-47ea-8812-394e4a4f6ee7"
      },
      "source": [
        "s = ' '.join(tokens)\t        # combine the words of the text into a string using s as the glue\r\n",
        "s\r\n"
      ],
      "execution_count": 52,
      "outputs": [
        {
          "output_type": "execute_result",
          "data": {
            "application/vnd.google.colaboratory.intrinsic+json": {
              "type": "string"
            },
            "text/plain": [
              "' dsdf sfsd'"
            ]
          },
          "metadata": {
            "tags": []
          },
          "execution_count": 52
        }
      ]
    },
    {
      "cell_type": "code",
      "metadata": {
        "colab": {
          "base_uri": "https://localhost:8080/"
        },
        "id": "jRnWNEKviXXc",
        "outputId": "9d0fdc3c-291d-42d0-e577-e0fd94120aa4"
      },
      "source": [
        "s.replace('this', 'that')   # replace instances of t with u inside s\r\n",
        "s\r\n",
        "#replace 함수는 그 값이 저장되는 것 같다. "
      ],
      "execution_count": 65,
      "outputs": [
        {
          "output_type": "execute_result",
          "data": {
            "text/plain": [
              "['', 'dsdf', 'sfsd']"
            ]
          },
          "metadata": {
            "tags": []
          },
          "execution_count": 65
        }
      ]
    }
  ]
}