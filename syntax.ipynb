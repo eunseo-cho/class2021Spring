{
  "nbformat": 4,
  "nbformat_minor": 0,
  "metadata": {
    "colab": {
      "name": "syntax.ipynb",
      "provenance": [],
      "authorship_tag": "ABX9TyMwhUC/+gGOOPctKlNnHo45",
      "include_colab_link": true
    },
    "kernelspec": {
      "name": "python3",
      "display_name": "Python 3"
    }
  },
  "cells": [
    {
      "cell_type": "markdown",
      "metadata": {
        "id": "view-in-github",
        "colab_type": "text"
      },
      "source": [
        "<a href=\"https://colab.research.google.com/github/eunseo-cho/class2021Spring/blob/main/syntax.ipynb\" target=\"_parent\"><img src=\"https://colab.research.google.com/assets/colab-badge.svg\" alt=\"Open In Colab\"/></a>"
      ]
    },
    {
      "cell_type": "code",
      "metadata": {
        "colab": {
          "base_uri": "https://localhost:8080/"
        },
        "id": "Edojwd9ninlZ",
        "outputId": "a38968a1-a73e-40ff-c85c-18000b27f3c8"
      },
      "source": [
        "a = [1, 2, 3, 4]\r\n",
        "for i in a:\r\n",
        "    print(i)"
      ],
      "execution_count": 1,
      "outputs": [
        {
          "output_type": "stream",
          "text": [
            "1\n",
            "2\n",
            "3\n",
            "4\n"
          ],
          "name": "stdout"
        }
      ]
    },
    {
      "cell_type": "code",
      "metadata": {
        "colab": {
          "base_uri": "https://localhost:8080/"
        },
        "id": "igV9-rmQyCUV",
        "outputId": "29213da4-d0a0-41c6-d56c-90b51c5fac2a"
      },
      "source": [
        "a = [1, 2, 3, 4]\r\n",
        "for i in range(len(a)):\r\n",
        "    print(a[i])"
      ],
      "execution_count": 2,
      "outputs": [
        {
          "output_type": "stream",
          "text": [
            "1\n",
            "2\n",
            "3\n",
            "4\n"
          ],
          "name": "stdout"
        }
      ]
    },
    {
      "cell_type": "code",
      "metadata": {
        "colab": {
          "base_uri": "https://localhost:8080/"
        },
        "id": "4YmgnD7myGWw",
        "outputId": "a78e34e3-6a51-48a6-b3d2-95c749e4f4cd"
      },
      "source": [
        "a = ['red', 'green', 'blue', 'purple']\r\n",
        "for i in a:\r\n",
        "    print(i)"
      ],
      "execution_count": 3,
      "outputs": [
        {
          "output_type": "stream",
          "text": [
            "red\n",
            "green\n",
            "blue\n",
            "purple\n"
          ],
          "name": "stdout"
        }
      ]
    },
    {
      "cell_type": "code",
      "metadata": {
        "colab": {
          "base_uri": "https://localhost:8080/"
        },
        "id": "sv3OJIA9yIE-",
        "outputId": "f09f9089-9513-409e-a117-3fbf7e9eb771"
      },
      "source": [
        "a = ['red', 'green', 'blue', 'purple']\r\n",
        "for i in range(len(a)):\r\n",
        "    print(a[i])"
      ],
      "execution_count": 4,
      "outputs": [
        {
          "output_type": "stream",
          "text": [
            "red\n",
            "green\n",
            "blue\n",
            "purple\n"
          ],
          "name": "stdout"
        }
      ]
    },
    {
      "cell_type": "code",
      "metadata": {
        "colab": {
          "base_uri": "https://localhost:8080/"
        },
        "id": "qOt9Po1gyJME",
        "outputId": "51960fb1-eae2-42e4-c2be-fdd33deb712b"
      },
      "source": [
        "a = [\"red\", \"green\", \"blue\", \"purple\"]\r\n",
        "b = [0.2, 0.3, 0.1, 0.4]\r\n",
        "for i, a_ in enumerate(a):\r\n",
        "    print(\"{}: {}%\".format(a_, b[i]*100))"
      ],
      "execution_count": 5,
      "outputs": [
        {
          "output_type": "stream",
          "text": [
            "red: 20.0%\n",
            "green: 30.0%\n",
            "blue: 10.0%\n",
            "purple: 40.0%\n"
          ],
          "name": "stdout"
        }
      ]
    },
    {
      "cell_type": "code",
      "metadata": {
        "colab": {
          "base_uri": "https://localhost:8080/"
        },
        "id": "azTqBWPdyNth",
        "outputId": "21c2a819-281b-47a0-8768-a2b780ee2ae5"
      },
      "source": [
        "a = [\"red\", \"green\", \"blue\", \"purple\"]\r\n",
        "b = [0.2, 0.3, 0.1, 0.4]\r\n",
        "for a_, b_ in zip(a, b):\r\n",
        "    print(\"{}: {}%\".format(a_, b_*100))"
      ],
      "execution_count": 6,
      "outputs": [
        {
          "output_type": "stream",
          "text": [
            "red: 20.0%\n",
            "green: 30.0%\n",
            "blue: 10.0%\n",
            "purple: 40.0%\n"
          ],
          "name": "stdout"
        }
      ]
    },
    {
      "cell_type": "code",
      "metadata": {
        "colab": {
          "base_uri": "https://localhost:8080/"
        },
        "id": "26qMEO28yOo-",
        "outputId": "2bce615c-5cd8-48c6-a0a3-f49213ea7fde"
      },
      "source": [
        "a = 0\r\n",
        "if a == 0:\r\n",
        "    print(a)\r\n",
        "else:\r\n",
        "    print(a+1)"
      ],
      "execution_count": 7,
      "outputs": [
        {
          "output_type": "stream",
          "text": [
            "0\n"
          ],
          "name": "stdout"
        }
      ]
    },
    {
      "cell_type": "code",
      "metadata": {
        "colab": {
          "base_uri": "https://localhost:8080/"
        },
        "id": "XxMIIKI3yRLD",
        "outputId": "12f441e9-65b4-457b-aa6e-aeef3a20683f"
      },
      "source": [
        "for i in range(1, 3):\r\n",
        "    for j in range(3, 5):\r\n",
        "        print(i*j)"
      ],
      "execution_count": 8,
      "outputs": [
        {
          "output_type": "stream",
          "text": [
            "3\n",
            "4\n",
            "6\n",
            "8\n"
          ],
          "name": "stdout"
        }
      ]
    },
    {
      "cell_type": "code",
      "metadata": {
        "colab": {
          "base_uri": "https://localhost:8080/"
        },
        "id": "olBkK02yyS_N",
        "outputId": "ecba9e48-ba24-411e-c7bb-b4ffe65d9627"
      },
      "source": [
        "a = [1, 2, 3, 4]\r\n",
        "b = [i for i in a if i >=2]\r\n",
        "b"
      ],
      "execution_count": 9,
      "outputs": [
        {
          "output_type": "execute_result",
          "data": {
            "text/plain": [
              "[2, 3, 4]"
            ]
          },
          "metadata": {
            "tags": []
          },
          "execution_count": 9
        }
      ]
    },
    {
      "cell_type": "code",
      "metadata": {
        "colab": {
          "base_uri": "https://localhost:8080/"
        },
        "id": "jZguxebuyU19",
        "outputId": "2c0e1204-2e5a-4a8a-b074-2d8b3ddf2f7a"
      },
      "source": [
        "a = ['red', 'green', 'blue', 'purple']\r\n",
        "b = [i for i in a if len(i) >=4]\r\n",
        "b\r\n"
      ],
      "execution_count": 10,
      "outputs": [
        {
          "output_type": "execute_result",
          "data": {
            "text/plain": [
              "['green', 'blue', 'purple']"
            ]
          },
          "metadata": {
            "tags": []
          },
          "execution_count": 10
        }
      ]
    }
  ]
}