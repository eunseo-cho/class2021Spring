{
  "nbformat": 4,
  "nbformat_minor": 0,
  "metadata": {
    "colab": {
      "name": "variables.ipynb",
      "provenance": [],
      "authorship_tag": "ABX9TyMrgip2m8oyu0AyTzaaEWdV",
      "include_colab_link": true
    },
    "kernelspec": {
      "name": "python3",
      "display_name": "Python 3"
    }
  },
  "cells": [
    {
      "cell_type": "markdown",
      "metadata": {
        "id": "view-in-github",
        "colab_type": "text"
      },
      "source": [
        "<a href=\"https://colab.research.google.com/github/eunseo-cho/class2021Spring/blob/main/variables.ipynb\" target=\"_parent\"><img src=\"https://colab.research.google.com/assets/colab-badge.svg\" alt=\"Open In Colab\"/></a>"
      ]
    },
    {
      "cell_type": "markdown",
      "metadata": {
        "id": "1xD3MOsKoomY"
      },
      "source": [
        "#variable_type"
      ]
    },
    {
      "cell_type": "markdown",
      "metadata": {
        "id": "9pha_TTisqOB"
      },
      "source": [
        "#int & float"
      ]
    },
    {
      "cell_type": "code",
      "metadata": {
        "colab": {
          "base_uri": "https://localhost:8080/"
        },
        "id": "FexaxJj6ycOO",
        "outputId": "f7c8e804-7de9-4767-c872-f3b2f6a906ef"
      },
      "source": [
        "a=1 ; print (type (a))"
      ],
      "execution_count": null,
      "outputs": [
        {
          "output_type": "stream",
          "text": [
            "<class 'int'>\n"
          ],
          "name": "stdout"
        }
      ]
    },
    {
      "cell_type": "code",
      "metadata": {
        "colab": {
          "base_uri": "https://localhost:8080/"
        },
        "id": "BvOMmN5MyhqL",
        "outputId": "64dbc54d-62e6-4f07-9e00-e3508e6e1853"
      },
      "source": [
        "a=1; a=float(a) ; print(type(a))"
      ],
      "execution_count": null,
      "outputs": [
        {
          "output_type": "stream",
          "text": [
            "<class 'float'>\n"
          ],
          "name": "stdout"
        }
      ]
    },
    {
      "cell_type": "code",
      "metadata": {
        "id": "aAejSB8_ot8s"
      },
      "source": [
        "#integer를 float으로 변경가능"
      ],
      "execution_count": null,
      "outputs": []
    },
    {
      "cell_type": "code",
      "metadata": {
        "colab": {
          "base_uri": "https://localhost:8080/"
        },
        "id": "OUYS8UoGymQE",
        "outputId": "bcf0e1b0-e49e-4ae2-f719-486ac5b3d090"
      },
      "source": [
        "a=1.2 ; a = int(a) ; print (type(a))\r\n",
        "\r\n",
        "k=1.6\r\n",
        "int(k)\r\n",
        "\r\n",
        "#float에서 int로 바꿀 경우, 소수점 아래는 모두 버림 (반올림 아님)"
      ],
      "execution_count": 5,
      "outputs": [
        {
          "output_type": "stream",
          "text": [
            "<class 'int'>\n"
          ],
          "name": "stdout"
        },
        {
          "output_type": "execute_result",
          "data": {
            "text/plain": [
              "1"
            ]
          },
          "metadata": {
            "tags": []
          },
          "execution_count": 5
        }
      ]
    },
    {
      "cell_type": "code",
      "metadata": {
        "colab": {
          "base_uri": "https://localhost:8080/"
        },
        "id": "cteYxxFwyqCq",
        "outputId": "633b617e-494a-47ee-fca1-84a9fd35217d"
      },
      "source": [
        "a= '123'; print(type(a)) ; print (a[1])\r\n",
        "\r\n",
        "#print를 할 경우, str은 ''없이 "
      ],
      "execution_count": null,
      "outputs": [
        {
          "output_type": "stream",
          "text": [
            "<class 'str'>\n",
            "2\n"
          ],
          "name": "stdout"
        }
      ]
    },
    {
      "cell_type": "markdown",
      "metadata": {
        "id": "Bxr5OndVsodS"
      },
      "source": [
        "#list"
      ]
    },
    {
      "cell_type": "code",
      "metadata": {
        "colab": {
          "base_uri": "https://localhost:8080/"
        },
        "id": "YMqoxg7uywEN",
        "outputId": "5fda3bec-072b-407f-c36d-8fd273d4151d"
      },
      "source": [
        "a= '123' ; a= list (a) ; print(type(a)); print (a) ; print (a[2])\r\n",
        "\r\n",
        "#str에서 list로 변경할 경우, list안 원소들은 str"
      ],
      "execution_count": null,
      "outputs": [
        {
          "output_type": "stream",
          "text": [
            "<class 'list'>\n",
            "['1', '2', '3']\n",
            "3\n"
          ],
          "name": "stdout"
        }
      ]
    },
    {
      "cell_type": "code",
      "metadata": {
        "id": "hscc9LhlqEWI",
        "outputId": "97aacb61-6e4b-4c04-8e39-c6d551614aab",
        "colab": {
          "base_uri": "https://localhost:8080/"
        }
      },
      "source": [
        "a='123'\r\n",
        "\r\n",
        "\r\n",
        "a=list(a)\r\n",
        "a[0]=1\r\n",
        "a\r\n",
        "\r\n",
        "\r\n",
        "#str은 인덱스로 변경할 수 없음 \r\n",
        "#list는 가능함. 근데 list(a)라고만 해서는 a가 list로 바뀌지는 않음.위의 식처럼 a에 list(a)를 다시한번 assign 해주어야 함. "
      ],
      "execution_count": 15,
      "outputs": [
        {
          "output_type": "execute_result",
          "data": {
            "text/plain": [
              "[1, '2', '3']"
            ]
          },
          "metadata": {
            "tags": []
          },
          "execution_count": 15
        }
      ]
    },
    {
      "cell_type": "code",
      "metadata": {
        "colab": {
          "base_uri": "https://localhost:8080/"
        },
        "id": "w2pBbMewy8fi",
        "outputId": "f19c6452-dd65-4b3a-9c8b-68b9de7a385f"
      },
      "source": [
        "a= [1, '2', [3, '4'],(1,2)] ; print (type (a) ); print (a[0]) ; print(a[1]) ; print (a[2])\r\n",
        "\r\n",
        "#list안에 있는 list, str, int, float, tuple"
      ],
      "execution_count": 30,
      "outputs": [
        {
          "output_type": "stream",
          "text": [
            "<class 'list'>\n",
            "1\n",
            "2\n",
            "[3, '4']\n"
          ],
          "name": "stdout"
        }
      ]
    },
    {
      "cell_type": "markdown",
      "metadata": {
        "id": "6GJc9j_-stwV"
      },
      "source": [
        "#tuple"
      ]
    },
    {
      "cell_type": "code",
      "metadata": {
        "colab": {
          "base_uri": "https://localhost:8080/"
        },
        "id": "QdpczTkezMyc",
        "outputId": "4c00b77c-ac74-42cd-ab15-10cfa3f4c787"
      },
      "source": [
        "a = (1,'2', [3, '4'],(1,2)); print(type(a)); print(a[0]); print(a[1]); print(a[2])\r\n",
        "a=(1)\r\n",
        "type(a)\r\n",
        "\r\n",
        "\r\n",
        "#tuple안에 있는 list, str, int, tuple\r\n",
        "#tuple은 원소변경이 불가능하다는 특징이 있음. \r\n",
        "#list는 원소변경이 가능함\r\n",
        "#(1) 이렇게 하나는 tuple이 아님."
      ],
      "execution_count": 29,
      "outputs": [
        {
          "output_type": "stream",
          "text": [
            "<class 'tuple'>\n",
            "1\n",
            "2\n",
            "[3, '4']\n"
          ],
          "name": "stdout"
        },
        {
          "output_type": "execute_result",
          "data": {
            "text/plain": [
              "int"
            ]
          },
          "metadata": {
            "tags": []
          },
          "execution_count": 29
        }
      ]
    },
    {
      "cell_type": "markdown",
      "metadata": {
        "id": "Uex1-PoEsj7i"
      },
      "source": [
        "#dictionary"
      ]
    },
    {
      "cell_type": "code",
      "metadata": {
        "colab": {
          "base_uri": "https://localhost:8080/"
        },
        "id": "-QN1JOwZzNeJ",
        "outputId": "5f059437-b45c-4149-8299-18161a533157"
      },
      "source": [
        "a =\t{\"a\": \"apple\", (1,2): \"orange\", (4): (1,2), 1.2:2}\r\n",
        "print(type(a))\r\n",
        "print(a[\"a\"])\r\n",
        "\r\n",
        "a\r\n",
        "\r\n",
        "\r\n",
        "#dictionary는 a:b 에서 a 값은 변경할 수 없음\r\n",
        "#dictionary에서 b값을 바꿀 수 있음. \r\n",
        "#a값에는 str, int, float, tuple (list는 안됨) // b값에는 str, int, float, list, tuple 가능\r\n",
        "#dictionary에서 print는 b 값을 출력\r\n",
        "#\"\"가 ''로 출력\r\n",
        "#순서가 바뀜.... tuple >> int/float >> str"
      ],
      "execution_count": 28,
      "outputs": [
        {
          "output_type": "stream",
          "text": [
            "<class 'dict'>\n",
            "apple\n"
          ],
          "name": "stdout"
        },
        {
          "output_type": "execute_result",
          "data": {
            "text/plain": [
              "{(1, 2): 'orange', 1.2: 2, 4: (1, 2), 'a': 'apple'}"
            ]
          },
          "metadata": {
            "tags": []
          },
          "execution_count": 28
        }
      ]
    },
    {
      "cell_type": "code",
      "metadata": {
        "colab": {
          "base_uri": "https://localhost:8080/"
        },
        "id": "UL9oSoIazPPU",
        "outputId": "bbb67e67-957f-4a0e-9e4a-3974cbdd28fa"
      },
      "source": [
        "a=[(1,2,3), (3,8,0)]\r\n",
        "print(type(a))\r\n",
        "a\r\n",
        "\r\n",
        "#list는 tuple을 원소로 가질 수 있음. "
      ],
      "execution_count": null,
      "outputs": [
        {
          "output_type": "stream",
          "text": [
            "<class 'list'>\n"
          ],
          "name": "stdout"
        },
        {
          "output_type": "execute_result",
          "data": {
            "text/plain": [
              "[(1, 2, 3), (3, 8, 0)]"
            ]
          },
          "metadata": {
            "tags": []
          },
          "execution_count": 12
        }
      ]
    }
  ]
}